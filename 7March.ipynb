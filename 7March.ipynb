{
 "cells": [
  {
   "cell_type": "code",
   "execution_count": null,
   "id": "c5d99c40-cee1-41b0-923d-cc61eb818b84",
   "metadata": {},
   "outputs": [],
   "source": [
    "Q1) The three measures of central tendencies are: i)Mean ii)Median iii)Mode"
   ]
  },
  {
   "cell_type": "raw",
   "id": "c1995f68-51a3-45fe-847a-130ecb4062d5",
   "metadata": {},
   "source": [
    "Q2) Mean is the average of all the data-points. Median represents the middle most data-point of the dataset. \n",
    "    Mode is the datapoint with highest frequency."
   ]
  },
  {
   "cell_type": "code",
   "execution_count": 12,
   "id": "02d333a5-3e02-4b1b-8d4d-cc4d2a8c1a1c",
   "metadata": {},
   "outputs": [
    {
     "name": "stdout",
     "output_type": "stream",
     "text": [
      "Mean=  177.01875 \n",
      "Median=  177.0 \n",
      "Mode=  178.0\n"
     ]
    }
   ],
   "source": [
    "#Q3)\n",
    "import numpy as np\n",
    "import statistics as stats\n",
    "num=np.array([178,177,176,177,178.2,178,175,179,180,175,178.9,176.2,177,172.5,178,176.5])\n",
    "avg=np.mean(num)\n",
    "med=np.median(num)\n",
    "mod=stats.mode(num)\n",
    "print(\"Mean= \",avg,\"\\nMedian= \",med,\"\\nMode= \",mod)"
   ]
  },
  {
   "cell_type": "code",
   "execution_count": 16,
   "id": "e99dd25a-2361-4a6f-a4ee-f4d6f2a541bc",
   "metadata": {},
   "outputs": [
    {
     "name": "stdout",
     "output_type": "stream",
     "text": [
      "Standard Deviation=  1.7885814036548633\n"
     ]
    }
   ],
   "source": [
    "#Q4)\n",
    "sd=np.std(num)\n",
    "print(\"Standard Deviation= \",sd)"
   ]
  },
  {
   "cell_type": "raw",
   "id": "70aa943d-4288-4e51-8181-fa0b2e66d34f",
   "metadata": {},
   "source": [
    "Q5) Range of a dataset provides the difference between the maximum and minimum value present in a dataset.\n",
    "    Standard Deviation shows how much data is deviated from mean. Variance is only the square of Standard Deviation"
   ]
  },
  {
   "cell_type": "raw",
   "id": "07a6fcf9-b946-4536-9a0c-23dbdfe2d858",
   "metadata": {},
   "source": [
    "Q6) Venn-Diagram is a pictoral representation of relation between two or more sets."
   ]
  },
  {
   "cell_type": "code",
   "execution_count": 19,
   "id": "7f50f7c5-01d6-4b10-a26a-92f0d0a82eb9",
   "metadata": {},
   "outputs": [
    {
     "name": "stdout",
     "output_type": "stream",
     "text": [
      "i)Intersection =  {2, 6} \n",
      "ii)Union =  {0, 2, 3, 4, 5, 6, 7, 8, 10}\n"
     ]
    }
   ],
   "source": [
    "#Q7)\n",
    "A={2,3,4,5,6,7}\n",
    "B={0,2,6,8,10}\n",
    "print(\"i)Intersection = \",A.intersection(B),\"\\nii)Union = \",A.union(B))"
   ]
  },
  {
   "cell_type": "raw",
   "id": "ac890eed-b278-49f1-a4f7-1c4604b2e902",
   "metadata": {},
   "source": [
    "Q8) Skewness of data gives us the idea about the symmetericity of the data points, variance is the parameter to judge the\n",
    "    skewness."
   ]
  },
  {
   "cell_type": "raw",
   "id": "d1dedfef-9409-479e-a6dc-93c0817584bb",
   "metadata": {},
   "source": [
    "Q9) In a right skewed data the mean is greater than median(Mean>Median>Mode)\n",
    "                                                           "
   ]
  },
  {
   "cell_type": "raw",
   "id": "773195bc-e213-4f05-92ed-41427434d13b",
   "metadata": {},
   "source": [
    "Q10) Covariance has no limit to its value whereas correlation varies from -1 to 1. These are used to show whether\n",
    "     a variable increases or decreases when other variable is changed."
   ]
  },
  {
   "cell_type": "code",
   "execution_count": 25,
   "id": "87efb55b-e053-41ba-a332-b1c14b2126d0",
   "metadata": {},
   "outputs": [
    {
     "name": "stdout",
     "output_type": "stream",
     "text": [
      "Sample mean=  3.0\n"
     ]
    }
   ],
   "source": [
    "#Q11) Sample mean = Summation(Xi)/Sample size(n)\n",
    "num=[1,2,3,4,5]\n",
    "sum=0\n",
    "for i in num:\n",
    "    sum=sum+i\n",
    "print(\"Sample mean= \",sum/len(num))"
   ]
  },
  {
   "cell_type": "raw",
   "id": "552a6d48-96eb-4b14-af75-57bc63231baa",
   "metadata": {},
   "source": [
    "Q12) For a normal distribution mean=median=mode"
   ]
  },
  {
   "cell_type": "raw",
   "id": "22aee18f-5796-47d4-b58a-33c069e6195c",
   "metadata": {},
   "source": [
    "Q13) Covariance don't have any limit of value whereas Co"
   ]
  }
 ],
 "metadata": {
  "kernelspec": {
   "display_name": "Python 3 (ipykernel)",
   "language": "python",
   "name": "python3"
  },
  "language_info": {
   "codemirror_mode": {
    "name": "ipython",
    "version": 3
   },
   "file_extension": ".py",
   "mimetype": "text/x-python",
   "name": "python",
   "nbconvert_exporter": "python",
   "pygments_lexer": "ipython3",
   "version": "3.10.8"
  }
 },
 "nbformat": 4,
 "nbformat_minor": 5
}
